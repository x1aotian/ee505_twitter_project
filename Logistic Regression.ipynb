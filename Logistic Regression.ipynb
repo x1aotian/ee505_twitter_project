{
 "cells": [
  {
   "cell_type": "code",
   "execution_count": 37,
   "id": "7d6b119c",
   "metadata": {},
   "outputs": [],
   "source": [
    "import pandas as pd\n",
    "import numpy as np\n",
    "import pandas as pd\n",
    "local_file=\"twitter_sentiments_data.csv\"\n",
    "data_set = pd.read_csv(local_file,sep=',',index_col=0,header=None,engine='python',error_bad_lines=False)\n",
    "def read_csv(csv_file_name, split_word=False):\n",
    "\n",
    "    data = []\n",
    "    with open(csv_file_name) as csv:\n",
    "        lines = csv.readlines()\n",
    "        for line in lines:\n",
    "            line_list = line.split(\",\")\n",
    "            positive = int(line_list[1])\n",
    "            tweet = line_list[2]\n",
    "            if split_word:\n",
    "                tweet = tweet.split(\" \")\n",
    "            data.append([positive, tweet])\n",
    "\n",
    "    return data"
   ]
  },
  {
   "cell_type": "code",
   "execution_count": 38,
   "id": "dce2cb2c",
   "metadata": {},
   "outputs": [],
   "source": [
    "from operator import itemgetter\n",
    "y=read_csv('0_train.csv')\n",
    "y_train=list(map(itemgetter(0), y))\n",
    "x_train=list(map(itemgetter(1), y))\n",
    "label=list(data_set.index[1:][1:])\n",
    "review = data_set[5][1:].values\n",
    "x=read_csv('0_test.csv')\n",
    "y_test=list(map(itemgetter(0), x))\n",
    "x_test=list(map(itemgetter(1), x))"
   ]
  },
  {
   "cell_type": "code",
   "execution_count": 39,
   "id": "067ba76b",
   "metadata": {},
   "outputs": [
    {
     "name": "stdout",
     "output_type": "stream",
     "text": [
      "262022\n",
      "262022\n",
      "1048084\n",
      "1048084\n"
     ]
    }
   ],
   "source": [
    "print(len(y_test))\n",
    "print(len(x_test))\n",
    "print(len(y_train))\n",
    "print(len(x_train))"
   ]
  },
  {
   "cell_type": "code",
   "execution_count": 40,
   "id": "7902e401",
   "metadata": {},
   "outputs": [
    {
     "name": "stdout",
     "output_type": "stream",
     "text": [
      "[0, 0, 0, 1, 1, 0, 1, 0, 0, 0, 1, 0, 1, 1, 1, 1, 1, 1, 1, 0]\n"
     ]
    }
   ],
   "source": [
    "print(y_train[:20])"
   ]
  },
  {
   "cell_type": "code",
   "execution_count": 41,
   "id": "1d62ccb6",
   "metadata": {},
   "outputs": [],
   "source": [
    "y_train=np.array([y_train]).T.astype(float)\n",
    "y_test=np.array([y_test]).T.astype(float)"
   ]
  },
  {
   "cell_type": "code",
   "execution_count": 42,
   "id": "71345ef4",
   "metadata": {},
   "outputs": [
    {
     "name": "stdout",
     "output_type": "stream",
     "text": [
      "[[0.]\n",
      " [0.]\n",
      " [0.]\n",
      " ...\n",
      " [1.]\n",
      " [0.]\n",
      " [0.]]\n"
     ]
    }
   ],
   "source": [
    "print(y_train)"
   ]
  },
  {
   "cell_type": "code",
   "execution_count": 43,
   "id": "d11a8cee",
   "metadata": {},
   "outputs": [
    {
     "name": "stdout",
     "output_type": "stream",
     "text": [
      "['my princess is having a hannah montana sleepover im all alone damn i need a puppy\\n', 'USER_MENTION wind just messes with my hayfever\\n', 'reliving conor oberst show memories i miss it\\n', 'USER_MENTION i like the name\\n', 'USER_MENTION ahh thanks by the way\\n', 'ilse wont be home for another hour\\n', 'USER_MENTION nopee this time around it looks much better no bedding overload anyway last day work tmrw enjoy\\n', 'rain rain go away\\n', 'USER_MENTION my state is tamaulipas next to the golfo de mex border with south tx.and about the is all over the world my dear\\n', 'USER_MENTION lets be noice cream friends poor us\\n', 'off to bed goodnight tweets\\n', 'ive manged to crack the screen on my mac\\n', 'USER_MENTION give me and ill give you a case of salsa4change\\n', 'hmm on da weekend i can be online at say my time and your time make sense well\\n', 'USER_MENTION my apologies\\n', 'USER_MENTION some mellow beasties u thx yr props URL\\n', 'USER_MENTION its addictive\\n', 'USER_MENTION didnt even know u were online whats up\\n', 'USER_MENTION it is highly recommended going to be my time there\\n', 'link things every geek should know eu entendi nada hihi URL\\n']\n"
     ]
    }
   ],
   "source": [
    "print(x_train[:20])"
   ]
  },
  {
   "cell_type": "code",
   "execution_count": 44,
   "id": "45c6166a",
   "metadata": {
    "scrolled": true
   },
   "outputs": [
    {
     "name": "stdout",
     "output_type": "stream",
     "text": [
      "test_y.shape = (262022, 1)\n",
      "train_y.shape = (1048084, 1)\n"
     ]
    }
   ],
   "source": [
    "print(\"test_y.shape = \" + str(y_test.shape))\n",
    "print(\"train_y.shape = \" + str(y_train.shape))"
   ]
  },
  {
   "cell_type": "code",
   "execution_count": 45,
   "id": "0a265a0d",
   "metadata": {},
   "outputs": [],
   "source": [
    "import re\n",
    "import string\n",
    "import numpy as np\n",
    "\n",
    "from nltk.corpus import stopwords\n",
    "from nltk.stem import PorterStemmer\n",
    "from nltk.tokenize import TweetTokenizer\n",
    "\n",
    "\n",
    "def process_tweet(tweet):\n",
    "    stemmer = PorterStemmer()\n",
    "    stopwords_english = stopwords.words('english')\n",
    "    tweet = re.sub(r'\\$\\w*', '', tweet)\n",
    "    tweet = re.sub(r'^RT[\\s]+', '', tweet)\n",
    "    tweet = re.sub(r'https?:\\/\\/.*[\\r\\n]*', '', tweet)\n",
    "    tweet = re.sub(r'#', '', tweet)\n",
    "    tokenizer = TweetTokenizer(preserve_case=False, strip_handles=True,reduce_len=True)\n",
    "    tweet_tokens = tokenizer.tokenize(tweet)\n",
    "    tweets_clean = []\n",
    "    for word in tweet_tokens:\n",
    "        if (word not in stopwords_english and \n",
    "                word not in string.punctuation):\n",
    "            stem_word = stemmer.stem(word) \n",
    "            tweets_clean.append(stem_word)\n",
    "    return tweets_clean\n",
    "def build_freqs(tweets, ys):\n",
    "    yslist = np.squeeze(ys).tolist()\n",
    "    freqs = {}\n",
    "    for y, tweet in zip(yslist, tweets):\n",
    "        for word in process_tweet(tweet):\n",
    "            pair = (word, y)\n",
    "            if pair in freqs:\n",
    "                freqs[pair] += 1\n",
    "            else:\n",
    "                freqs[pair] = 1\n",
    "\n",
    "    return freqs"
   ]
  },
  {
   "cell_type": "code",
   "execution_count": 46,
   "id": "acc8cf04",
   "metadata": {},
   "outputs": [],
   "source": [
    "import numpy as np\n",
    "import pandas as pd\n",
    "from nltk.corpus import twitter_samples "
   ]
  },
  {
   "cell_type": "code",
   "execution_count": 47,
   "id": "99de6478",
   "metadata": {},
   "outputs": [
    {
     "name": "stdout",
     "output_type": "stream",
     "text": [
      "type(freqs) = <class 'dict'>\n",
      "len(freqs) = 193819\n"
     ]
    }
   ],
   "source": [
    "freqs = build_freqs(x_train, y_train)\n",
    "print(\"type(freqs) = \" + str(type(freqs)))\n",
    "print(\"len(freqs) = \" + str(len(freqs.keys())))"
   ]
  },
  {
   "cell_type": "code",
   "execution_count": 48,
   "id": "bca69c07",
   "metadata": {},
   "outputs": [
    {
     "name": "stdout",
     "output_type": "stream",
     "text": [
      "This is an example of a positive tweet: \n",
      " my princess is having a hannah montana sleepover im all alone damn i need a puppy\n",
      "\n",
      "\n",
      "This is an example of the processed version of the tweet: \n",
      " ['princess', 'hannah', 'montana', 'sleepov', 'im', 'alon', 'damn', 'need', 'puppi']\n"
     ]
    }
   ],
   "source": [
    "print('This is an example of a positive tweet: \\n', x_train[0])\n",
    "print('\\nThis is an example of the processed version of the tweet: \\n', process_tweet(x_train[0]))"
   ]
  },
  {
   "cell_type": "code",
   "execution_count": 49,
   "id": "5560f11c",
   "metadata": {},
   "outputs": [],
   "source": [
    "def sigmoid(z): \n",
    "    h = 1/(1+np.exp(-z))\n",
    "    return h"
   ]
  },
  {
   "cell_type": "code",
   "execution_count": 50,
   "id": "49f70b8a",
   "metadata": {},
   "outputs": [
    {
     "name": "stdout",
     "output_type": "stream",
     "text": [
      "right!\n",
      "right!\n"
     ]
    }
   ],
   "source": [
    "if (sigmoid(0) == 0.5):\n",
    "    print('right!')\n",
    "else:\n",
    "    print('wrong!')\n",
    "\n",
    "if (sigmoid(4.92) == 0.9927537604041685):\n",
    "    print('right!')\n",
    "else:\n",
    "    print('wrong!')"
   ]
  },
  {
   "cell_type": "code",
   "execution_count": 51,
   "id": "3ed80ea8",
   "metadata": {},
   "outputs": [
    {
     "data": {
      "text/plain": [
       "9.210340371976294"
      ]
     },
     "execution_count": 51,
     "metadata": {},
     "output_type": "execute_result"
    }
   ],
   "source": [
    "-1 * (1 - 0) * np.log(1 - 0.9999) "
   ]
  },
  {
   "cell_type": "code",
   "execution_count": 52,
   "id": "fb7463f1",
   "metadata": {},
   "outputs": [
    {
     "data": {
      "text/plain": [
       "9.210340371976182"
      ]
     },
     "execution_count": 52,
     "metadata": {},
     "output_type": "execute_result"
    }
   ],
   "source": [
    "-1 * np.log(0.0001) "
   ]
  },
  {
   "cell_type": "code",
   "execution_count": 53,
   "id": "9cf7053d",
   "metadata": {},
   "outputs": [],
   "source": [
    "def gradientDescent(x, y, theta, alpha, num_iters):\n",
    "\n",
    "    m = x.shape[0]\n",
    "    for i in range(0, num_iters):\n",
    "        \n",
    "\n",
    "        z = np.dot(x,theta)\n",
    "        \n",
    "\n",
    "        h = sigmoid(z)\n",
    "        \n",
    "\n",
    "        J = -1/m * (np.dot(y.T,np.log(h)) + np.dot((1-y).T,np.log(1-h)))\n",
    "\n",
    "\n",
    "        theta = theta - alpha/m * (np.dot(x.T,(h-y)))\n",
    "        \n",
    "    J = float(J)\n",
    "    return J, theta"
   ]
  },
  {
   "cell_type": "code",
   "execution_count": 54,
   "id": "f762146e",
   "metadata": {},
   "outputs": [
    {
     "name": "stdout",
     "output_type": "stream",
     "text": [
      "The cost after training is 0.67094970.\n",
      "The resulting vector of weights is [4.1e-07, 0.00035658, 7.309e-05]\n"
     ]
    }
   ],
   "source": [
    "\n",
    "np.random.seed(1)\n",
    "\n",
    "tmp_X = np.append(np.ones((10, 1)), np.random.rand(10, 2) * 2000, axis=1)\n",
    "\n",
    "tmp_Y = (np.random.rand(10, 1) > 0.35).astype(float)\n",
    "\n",
    "tmp_J, tmp_theta = gradientDescent(tmp_X, tmp_Y, np.zeros((3, 1)), 1e-8, 700)\n",
    "print(f\"The cost after training is {tmp_J:.8f}.\")\n",
    "print(f\"The resulting vector of weights is {[round(t, 8) for t in np.squeeze(tmp_theta)]}\")"
   ]
  },
  {
   "cell_type": "code",
   "execution_count": 55,
   "id": "8f874d57",
   "metadata": {},
   "outputs": [],
   "source": [
    "def extract_features(tweet, freqs):\n",
    "    word_l = process_tweet(tweet)\n",
    "    x = np.zeros((1, 3)) \n",
    "    x[0,0] = 1 \n",
    "    for word in word_l:\n",
    "        x[0,1] += freqs.get((word,1),0)\n",
    "        x[0,2] += freqs.get((word,0),0)\n",
    "    assert(x.shape == (1, 3))\n",
    "    return x"
   ]
  },
  {
   "cell_type": "code",
   "execution_count": 56,
   "id": "b396a481",
   "metadata": {
    "scrolled": true
   },
   "outputs": [
    {
     "name": "stdout",
     "output_type": "stream",
     "text": [
      "[[1.0000e+00 5.2059e+04 8.0699e+04]]\n"
     ]
    }
   ],
   "source": [
    "tmp1 = extract_features(x_train[0], freqs)\n",
    "print(tmp1)"
   ]
  },
  {
   "cell_type": "code",
   "execution_count": 57,
   "id": "e84a7173",
   "metadata": {},
   "outputs": [
    {
     "name": "stdout",
     "output_type": "stream",
     "text": [
      "[[1. 0. 0.]]\n"
     ]
    }
   ],
   "source": [
    "tmp2 = extract_features('blorb bleeeeb bloooob', freqs)\n",
    "print(tmp2)"
   ]
  },
  {
   "cell_type": "code",
   "execution_count": 58,
   "id": "9474f629",
   "metadata": {
    "scrolled": false
   },
   "outputs": [
    {
     "name": "stdout",
     "output_type": "stream",
     "text": [
      "The cost after training is 0.63716511.\n",
      "The resulting vector of weights is [0.0, 2.27e-05, -3.02e-05]\n"
     ]
    }
   ],
   "source": [
    "X = np.zeros((len(x_train), 3))\n",
    "for i in range(len(x_train)):\n",
    "    X[i, :]= extract_features(x_train[i], freqs)\n",
    "Y = y_train\n",
    "J, theta = gradientDescent(X, Y, np.zeros((3, 1)), 1e-10, 1500)\n",
    "print(f\"The cost after training is {J:.8f}.\")\n",
    "print(f\"The resulting vector of weights is {[round(t, 8) for t in np.squeeze(theta)]}\")"
   ]
  },
  {
   "cell_type": "code",
   "execution_count": 59,
   "id": "edc788f3",
   "metadata": {},
   "outputs": [
    {
     "name": "stdout",
     "output_type": "stream",
     "text": [
      "1048084\n"
     ]
    }
   ],
   "source": [
    "print(X.shape[0])"
   ]
  },
  {
   "cell_type": "code",
   "execution_count": 60,
   "id": "6f10deff",
   "metadata": {},
   "outputs": [],
   "source": [
    "def gradientDescent1(x, y, theta, alpha, num_iters):\n",
    "    t=[]\n",
    "    m = x.shape[0]\n",
    "    for i in range(0, num_iters):\n",
    "        z = np.dot(x,theta)\n",
    "        h = sigmoid(z)\n",
    "        J = -1/m * (np.dot(y.T,np.log(h)) + np.dot((1-y).T,np.log(1-h)))\n",
    "        theta = theta - alpha/m * (np.dot(x.T,(h-y)))\n",
    "        t.append(J)\n",
    "    return t"
   ]
  },
  {
   "cell_type": "code",
   "execution_count": 61,
   "id": "6f1309a2",
   "metadata": {
    "scrolled": true
   },
   "outputs": [
    {
     "name": "stdout",
     "output_type": "stream",
     "text": [
      "1048084\n"
     ]
    }
   ],
   "source": [
    "print(len(x_train))"
   ]
  },
  {
   "cell_type": "code",
   "execution_count": 62,
   "id": "178ef7db",
   "metadata": {},
   "outputs": [],
   "source": [
    "val=x_train[0:838467]\n",
    "y_val=y_train[0:838467]\n",
    "tra=x_train[838467:1048084]\n",
    "y_tra=y_train[838467:1048084]"
   ]
  },
  {
   "cell_type": "code",
   "execution_count": 97,
   "id": "2e192186",
   "metadata": {
    "scrolled": false
   },
   "outputs": [],
   "source": [
    "X = np.zeros((len(val), 3))\n",
    "for i in range(len(val)):\n",
    "    X[i, :]= extract_features(x_train[i], freqs)\n",
    "Y = y_val\n",
    "J = gradientDescent1(X, Y, np.zeros((3, 1)), 1e-11, 30)"
   ]
  },
  {
   "cell_type": "code",
   "execution_count": 98,
   "id": "e4630769",
   "metadata": {},
   "outputs": [],
   "source": [
    "X = np.zeros((len(tra), 3))\n",
    "for i in range(len(tra)):\n",
    "    X[i, :]= extract_features(x_train[i], freqs)\n",
    "Y = y_tra\n",
    "J1 = gradientDescent1(X, Y, np.zeros((3, 1)), 1e-11, 30)"
   ]
  },
  {
   "cell_type": "code",
   "execution_count": 99,
   "id": "7f0099ab",
   "metadata": {},
   "outputs": [],
   "source": [
    "st=[]\n",
    "for i in range(0,len(J)):\n",
    "    st.append(J[i][0][0])"
   ]
  },
  {
   "cell_type": "code",
   "execution_count": 100,
   "id": "4e42d866",
   "metadata": {},
   "outputs": [],
   "source": [
    "st1=[]\n",
    "for i in range(0,len(J1)):\n",
    "    st1.append(J1[i][0][0])"
   ]
  },
  {
   "cell_type": "code",
   "execution_count": 101,
   "id": "91c670f8",
   "metadata": {},
   "outputs": [],
   "source": [
    "import matplotlib.pyplot as plt"
   ]
  },
  {
   "cell_type": "code",
   "execution_count": 102,
   "id": "92ad3270",
   "metadata": {
    "scrolled": true
   },
   "outputs": [
    {
     "data": {
      "text/plain": [
       "<matplotlib.legend.Legend at 0x2bca0094250>"
      ]
     },
     "execution_count": 102,
     "metadata": {},
     "output_type": "execute_result"
    },
    {
     "data": {
      "image/png": "[encoded data removed]",
      "text/plain": [
       "<Figure size 432x288 with 1 Axes>"
      ]
     },
     "metadata": {
      "needs_background": "light"
     },
     "output_type": "display_data"
    }
   ],
   "source": [
    "plt.subplot(2, 1, 1)\n",
    "x2=range(0,30)\n",
    "plt.plot(x2, st, '.-',label=\"Train_Loss\")\n",
    "plt.plot(x2, st1, '.-',label=\"Valid_Loss\")\n",
    "plt.legend(loc='best')"
   ]
  },
  {
   "cell_type": "code",
   "execution_count": 103,
   "id": "2db04b75",
   "metadata": {},
   "outputs": [],
   "source": [
    "def predict_tweet(tweet, freqs, theta):\n",
    "    x = extract_features(tweet,freqs)\n",
    "    y_pred = sigmoid(np.dot(x,theta)) \n",
    "    return y_pred"
   ]
  },
  {
   "cell_type": "code",
   "execution_count": 104,
   "id": "0f2b3bf4",
   "metadata": {
    "scrolled": false
   },
   "outputs": [
    {
     "name": "stdout",
     "output_type": "stream",
     "text": [
      "I am sad -> 0.388439\n",
      "You are a good person -> 0.569079\n",
      "this movie should have been great. -> 0.551262\n",
      "great -> 0.542878\n",
      "great great -> 0.585129\n",
      "this movie is boring -> 0.467789\n"
     ]
    }
   ],
   "source": [
    "for tweet in ['I am sad', 'You are a good person', 'this movie should have been great.', 'great', 'great great', 'this movie is boring']:\n",
    "    print( '%s -> %f' % (tweet, predict_tweet(tweet, freqs, theta)))"
   ]
  },
  {
   "cell_type": "code",
   "execution_count": 105,
   "id": "29993830",
   "metadata": {},
   "outputs": [],
   "source": [
    "def test_logistic_regression(x_test, y_test, freqs, theta):\n",
    "    y_hat=[]\n",
    "    for tweet in x_test:\n",
    "        y_pred = predict_tweet(tweet, freqs, theta)\n",
    "        \n",
    "        if y_pred > 0.5:\n",
    "            y_hat.append(1)\n",
    "        else:\n",
    "            y_hat.append(0)\n",
    "    cnt=0\n",
    "    y_test = y_test.squeeze()\n",
    "    for i in range(0,len(y_hat)):\n",
    "        if y_hat[i]==y_test[i]:\n",
    "            cnt+=1\n",
    "    accuracy = cnt / len(y_hat)\n",
    "    return accuracy"
   ]
  },
  {
   "cell_type": "code",
   "execution_count": 106,
   "id": "54509c16",
   "metadata": {},
   "outputs": [
    {
     "name": "stdout",
     "output_type": "stream",
     "text": [
      "Logistic regression model's accuracy = 0.6506\n"
     ]
    }
   ],
   "source": [
    "tmp_accuracy = test_logistic_regression(x_test, y_test, freqs, theta)\n",
    "print(f\"Logistic regression model's accuracy = {tmp_accuracy:.4f}\")"
   ]
  },
  {
   "cell_type": "code",
   "execution_count": 107,
   "id": "91330209",
   "metadata": {},
   "outputs": [],
   "source": [
    "def test_logistic_regression1(x_test, y_test, freqs, theta):\n",
    "    y_hat=[]\n",
    "    for tweet in x_test:\n",
    "        y_pred = predict_tweet(tweet, freqs, theta)\n",
    "        \n",
    "        if y_pred > 0.5:\n",
    "            y_hat.append(1)\n",
    "        else:\n",
    "            y_hat.append(0)\n",
    "    return y_hat"
   ]
  },
  {
   "cell_type": "code",
   "execution_count": 108,
   "id": "3a8bf554",
   "metadata": {},
   "outputs": [],
   "source": [
    "pred=test_logistic_regression1(x_test, y_test, freqs, theta)"
   ]
  },
  {
   "cell_type": "code",
   "execution_count": 109,
   "id": "d35f3422",
   "metadata": {},
   "outputs": [
    {
     "name": "stdout",
     "output_type": "stream",
     "text": [
      "Positive sentiment\n"
     ]
    }
   ],
   "source": [
    "my_tweet = 'I am happy because I have completed logistic regression!'\n",
    "y_hat = predict_tweet(my_tweet, freqs, theta)\n",
    "if y_hat > 0.5:\n",
    "    print('Positive sentiment')\n",
    "else: \n",
    "    print('Negative sentiment')"
   ]
  },
  {
   "cell_type": "code",
   "execution_count": 110,
   "id": "75d6a774",
   "metadata": {},
   "outputs": [],
   "source": [
    "from sklearn.metrics import classification_report"
   ]
  },
  {
   "cell_type": "code",
   "execution_count": 111,
   "id": "d4ed9e3a",
   "metadata": {},
   "outputs": [
    {
     "name": "stdout",
     "output_type": "stream",
     "text": [
      "              precision    recall  f1-score   support\n",
      "\n",
      "         0.0       0.64      0.69      0.66    131142\n",
      "         1.0       0.66      0.61      0.64    130880\n",
      "\n",
      "    accuracy                           0.65    262022\n",
      "   macro avg       0.65      0.65      0.65    262022\n",
      "weighted avg       0.65      0.65      0.65    262022\n",
      "\n"
     ]
    }
   ],
   "source": [
    "\n",
    "print(classification_report(y_test,pred))"
   ]
  },
  {
   "cell_type": "code",
   "execution_count": 112,
   "id": "c45585cc",
   "metadata": {},
   "outputs": [
    {
     "name": "stdout",
     "output_type": "stream",
     "text": [
      "confusion matrix:\n",
      "[[90696 40446]\n",
      " [51100 79780]]\n"
     ]
    }
   ],
   "source": [
    "from sklearn.metrics import confusion_matrix\n",
    "cm = confusion_matrix(y_test, pred)\n",
    "print(\"confusion matrix:\")\n",
    "print(cm)"
   ]
  },
  {
   "cell_type": "code",
   "execution_count": 113,
   "id": "2e6844e1",
   "metadata": {},
   "outputs": [
    {
     "data": {
      "image/png": "[encoded data removed]",
      "text/plain": [
       "<Figure size 1152x1152 with 3 Axes>"
      ]
     },
     "metadata": {
      "needs_background": "light"
     },
     "output_type": "display_data"
    }
   ],
   "source": [
    "plt.figure(figsize=(8, 8), dpi=144)\n",
    "plt.title('Confusion matrix of the classifier')\n",
    "ax = plt.gca()                                  \n",
    "ax.spines['right'].set_color('none')            \n",
    "ax.spines['top'].set_color('none')\n",
    "ax.spines['bottom'].set_color('none')\n",
    "ax.spines['left'].set_color('none')\n",
    "ax.xaxis.set_ticks_position('none')\n",
    "ax.yaxis.set_ticks_position('none')\n",
    "ax.set_xticklabels([])\n",
    "ax.set_yticklabels([])\n",
    "plt.matshow(cm, fignum=1, cmap='gray')\n",
    "plt.colorbar();"
   ]
  },
  {
   "cell_type": "code",
   "execution_count": null,
   "id": "c72b3b0b",
   "metadata": {},
   "outputs": [],
   "source": []
  }
 ],
 "metadata": {
  "kernelspec": {
   "display_name": "Python 3",
   "language": "python",
   "name": "python3"
  },
  "language_info": {
   "codemirror_mode": {
    "name": "ipython",
    "version": 3
   },
   "file_extension": ".py",
   "mimetype": "text/x-python",
   "name": "python",
   "nbconvert_exporter": "python",
   "pygments_lexer": "ipython3",
   "version": "3.8.8"
  }
 },
 "nbformat": 4,
 "nbformat_minor": 5
}
